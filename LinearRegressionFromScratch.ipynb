{
  "nbformat": 4,
  "nbformat_minor": 0,
  "metadata": {
    "colab": {
      "provenance": []
    },
    "kernelspec": {
      "name": "python3",
      "display_name": "Python 3"
    },
    "language_info": {
      "name": "python"
    }
  },
  "cells": [
    {
      "cell_type": "markdown",
      "source": [
        "### Linear Regression"
      ],
      "metadata": {
        "id": "nH_z39hdR6qb"
      }
    },
    {
      "cell_type": "code",
      "source": [
        "class LinearRegression:\n",
        "  def __init__(self, lr = 0.01, n_iters=1000):\n",
        "    self.lr = lr\n",
        "    self.n_iters = n_iters\n",
        "    self.weights = None\n",
        "    self.bias = None\n",
        "\n",
        "  def fit(self, X, y):\n",
        "    n_samples, n_features = X.shape\n",
        "    self.weights = np.zeros(n_features)\n",
        "    self.bias = 0\n",
        "\n",
        "    for _ in range(self.n_iters):\n",
        "      y_pred = np.dot(X,self.weights) + self.bias\n",
        "\n",
        "      dw = (1/n_samples) * np.dot(X.T, (y_pred - y))\n",
        "      db = (1/n_samples) * np.sum(y_pred - y)\n",
        "\n",
        "      self.weights -= self.lr * dw\n",
        "      self.bias -= self.lr * db\n",
        "\n",
        "  def predict(self, X):\n",
        "    y_pred = np.dot(X, self.weights) + self.bias\n",
        "    return y_pred"
      ],
      "metadata": {
        "id": "CdgPjn5RThiT"
      },
      "execution_count": 9,
      "outputs": []
    },
    {
      "cell_type": "code",
      "source": [
        "import numpy as np\n",
        "from sklearn.model_selection import train_test_split\n",
        "from sklearn import datasets\n",
        "import matplotlib.pyplot as plt"
      ],
      "metadata": {
        "id": "pdJl152sT6hS"
      },
      "execution_count": 3,
      "outputs": []
    },
    {
      "cell_type": "code",
      "source": [
        "X,y = datasets.make_regression(n_samples=100,n_features=1, noise=10, random_state=43)\n",
        "X_train, X_test, y_train, y_test = train_test_split(X, y, test_size=0.2, random_state=1)"
      ],
      "metadata": {
        "id": "QQxLauR1UaKy"
      },
      "execution_count": 30,
      "outputs": []
    },
    {
      "cell_type": "code",
      "source": [
        "print(X_train.shape,X_test.shape)"
      ],
      "metadata": {
        "colab": {
          "base_uri": "https://localhost:8080/"
        },
        "id": "pqQcWFihU2iQ",
        "outputId": "cce8cd9d-0849-4d6f-f29d-9894a802df92"
      },
      "execution_count": 31,
      "outputs": [
        {
          "output_type": "stream",
          "name": "stdout",
          "text": [
            "(80, 1) (20, 1)\n"
          ]
        }
      ]
    },
    {
      "cell_type": "code",
      "source": [
        "print(y_train.shape,y_test.shape)"
      ],
      "metadata": {
        "colab": {
          "base_uri": "https://localhost:8080/"
        },
        "id": "3j3K5v8CU7Pm",
        "outputId": "53382a2a-6cc4-472d-c65b-847a9507f168"
      },
      "execution_count": 32,
      "outputs": [
        {
          "output_type": "stream",
          "name": "stdout",
          "text": [
            "(80,) (20,)\n"
          ]
        }
      ]
    },
    {
      "cell_type": "code",
      "source": [
        "model = LinearRegression(lr=0.01)\n",
        "model.fit(X_train,y_train)"
      ],
      "metadata": {
        "id": "l7S4GuNZV29Q"
      },
      "execution_count": 43,
      "outputs": []
    },
    {
      "cell_type": "code",
      "source": [
        "predictions = model.predict(X_test)"
      ],
      "metadata": {
        "id": "XVfAI9wEXujJ"
      },
      "execution_count": 44,
      "outputs": []
    },
    {
      "cell_type": "code",
      "source": [
        "predictions"
      ],
      "metadata": {
        "colab": {
          "base_uri": "https://localhost:8080/"
        },
        "id": "nL99ja-MX2Kv",
        "outputId": "81e9a5de-810b-4422-ff59-7dbaf7d188f2"
      },
      "execution_count": 45,
      "outputs": [
        {
          "output_type": "execute_result",
          "data": {
            "text/plain": [
              "array([ 58.83054608,  22.67346719,  39.36529527,  19.39086658,\n",
              "        24.82764669, -52.56924396,  -3.63313369, -27.25853413,\n",
              "        -5.4412824 ,  23.24580586,  24.09083863,  12.42959055,\n",
              "        27.36578361,   7.98457819, -17.80491012, -22.61066239,\n",
              "        23.38019951,  33.35848842,  25.98377898,  12.72471206])"
            ]
          },
          "metadata": {},
          "execution_count": 45
        }
      ]
    },
    {
      "cell_type": "code",
      "source": [
        "def mean_squared_error(y_true, y_pred):\n",
        "  return np.mean((y_true - y_pred)**2)"
      ],
      "metadata": {
        "id": "PwR7NBD0X4fw"
      },
      "execution_count": 46,
      "outputs": []
    },
    {
      "cell_type": "code",
      "source": [
        "mse_value = mean_squared_error(y_test, predictions)\n",
        "mse_value"
      ],
      "metadata": {
        "colab": {
          "base_uri": "https://localhost:8080/"
        },
        "id": "e3CTYnxqYIDG",
        "outputId": "a28ad3dc-69bd-4a6d-a027-57c3e544a158"
      },
      "execution_count": 47,
      "outputs": [
        {
          "output_type": "execute_result",
          "data": {
            "text/plain": [
              "35.40010949752106"
            ]
          },
          "metadata": {},
          "execution_count": 47
        }
      ]
    },
    {
      "cell_type": "code",
      "source": [
        "plt.scatter(X_test, y_test)\n",
        "plt.plot(X_test, predictions, color='red')\n",
        "plt.show()"
      ],
      "metadata": {
        "colab": {
          "base_uri": "https://localhost:8080/",
          "height": 430
        },
        "id": "BCi9tO7lYLef",
        "outputId": "4ce8d43f-b2c8-4d6c-86ea-71dfc50dfa81"
      },
      "execution_count": 48,
      "outputs": [
        {
          "output_type": "display_data",
          "data": {
            "text/plain": [
              "<Figure size 640x480 with 1 Axes>"
            ],
            "image/png": "[encoded data removed]"
          },
          "metadata": {}
        }
      ]
    },
    {
      "cell_type": "code",
      "source": [],
      "metadata": {
        "id": "yKD0okO2Y-th"
      },
      "execution_count": null,
      "outputs": []
    }
  ]
}